{
 "cells": [
  {
   "cell_type": "code",
   "execution_count": 5,
   "id": "3ceeae8e-498f-4f78-bcc8-674c5a84741f",
   "metadata": {},
   "outputs": [],
   "source": [
    "import numpy as np"
   ]
  },
  {
   "cell_type": "code",
   "execution_count": 6,
   "id": "ab0f454a-9395-4797-9e28-f4ef14aa3898",
   "metadata": {},
   "outputs": [],
   "source": [
    "p0 = 0.9\n",
    "p1 = 0.7\n",
    "p2 = 0.4\n",
    "\n",
    "# (action, l1, l2, m1, m2) : prob\n",
    "probabilities = {\n",
    "    # start maintenance\n",
    "    ('M', 0, 0, 0, 1) : 1,\n",
    "    ('M', 1, 1, 0, 1) : 1,\n",
    "    ('M', 2, 2, 0, 1) : 1,\n",
    "\n",
    "    # finish maintenance\n",
    "    ('N', 0, 0, 1, 0) : 1,\n",
    "    ('N', 1, 0, 1, 0) : 1,\n",
    "    ('N', 2, 0, 1, 0) : 1,\n",
    "\n",
    "    # process job\n",
    "    ('J', 0, 0, 0, 0) : p0,\n",
    "    ('J', 0, 1, 0, 0) : 1 - p0,\n",
    "\n",
    "    ('J', 1, 1, 0, 0) : p1,\n",
    "    ('J', 1, 2, 0, 0) : 1 - p1,\n",
    "\n",
    "    ('J', 2, 2, 0, 0) : 1,\n",
    "}\n",
    "\n",
    "# (action, l, m): expected (over next states) reward\n",
    "rewards = {\n",
    "    ('J', 0, 0) : 2 * p0,\n",
    "    ('J', 1, 0) : p1,\n",
    "    ('J', 2, 0) : p2,\n",
    "}\n",
    "\n",
    "def p(a, l1, m1, l2, m2):\n",
    "    key = (a, l1, l2, m1, m2)\n",
    "    if key in probabilities:\n",
    "        return probabilities[key]\n",
    "    else:\n",
    "        return 0\n",
    "\n",
    "def r(a, l, m):\n",
    "    key = (a, l, m)\n",
    "    if key in rewards:\n",
    "        return rewards[key]\n",
    "    else:\n",
    "        return 0\n",
    "\n",
    "def actions(m):\n",
    "    if m == 1:\n",
    "        # don't allow any other actions if we are still in maintenance\n",
    "        return ['N']\n",
    "    else:\n",
    "        return ['M','J']"
   ]
  },
  {
   "cell_type": "code",
   "execution_count": 7,
   "id": "a64f23da-284b-4cb6-b791-d408d1c624f1",
   "metadata": {},
   "outputs": [],
   "source": [
    "# number of decision epochs\n",
    "N = 5\n",
    "\n",
    "# state space\n",
    "L = [0,1,2] # machine state\n",
    "M = [0,1] # maintenance flag\n",
    "I = [(l,m) for l in L for m in M]\n",
    "\n",
    "V = np.zeros((N+1, len(L), len(M)))\n",
    "A = np.zeros((N+1, len(L), len(M)), dtype='str')"
   ]
  },
  {
   "cell_type": "code",
   "execution_count": 8,
   "id": "c4fccb9b",
   "metadata": {},
   "outputs": [
    {
     "data": {
      "text/plain": [
       "6"
      ]
     },
     "execution_count": 8,
     "metadata": {},
     "output_type": "execute_result"
    }
   ],
   "source": [
    "len(I)"
   ]
  },
  {
   "cell_type": "code",
   "execution_count": 9,
   "id": "318bea94-5082-45e4-9db6-e120f8e54542",
   "metadata": {},
   "outputs": [],
   "source": [
    "# no final rewards\n",
    "V[0,:,:] = 0\n",
    "\n",
    "for n in range(1,N+1):\n",
    "    for l1,m1 in I:\n",
    "        maximum = 0\n",
    "        argmax = ''\n",
    "        for a in actions(m1):\n",
    "            S = sum(\n",
    "                p(a, l1,m1, l2,m2) * V[n-1,l2,m2]\n",
    "                for l2,m2 in I\n",
    "            ) + r(a, l1, m1)\n",
    "            if S > maximum:\n",
    "                maximum = S\n",
    "                argmax = a\n",
    "            \n",
    "        V[n,l1,m1] = maximum\n",
    "        A[n,l1,m1] = argmax"
   ]
  },
  {
   "cell_type": "code",
   "execution_count": 14,
   "id": "6fe32806",
   "metadata": {},
   "outputs": [
    {
     "data": {
      "text/plain": [
       "8.04445"
      ]
     },
     "execution_count": 14,
     "metadata": {},
     "output_type": "execute_result"
    }
   ],
   "source": [
    "V[N,0,0]"
   ]
  },
  {
   "cell_type": "code",
   "execution_count": null,
   "id": "1b17141c-0ead-4924-9cad-8d65178a696e",
   "metadata": {},
   "outputs": [],
   "source": []
  }
 ],
 "metadata": {
  "kernelspec": {
   "display_name": "Python 3 (ipykernel)",
   "language": "python",
   "name": "python3"
  },
  "language_info": {
   "codemirror_mode": {
    "name": "ipython",
    "version": 3
   },
   "file_extension": ".py",
   "mimetype": "text/x-python",
   "name": "python",
   "nbconvert_exporter": "python",
   "pygments_lexer": "ipython3",
   "version": "3.8.12"
  }
 },
 "nbformat": 4,
 "nbformat_minor": 5
}
