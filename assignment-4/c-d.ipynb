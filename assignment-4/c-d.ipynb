{
 "cells": [
  {
   "cell_type": "code",
   "execution_count": 1,
   "metadata": {},
   "outputs": [],
   "source": [
    "import cvxpy as cp\n",
    "import numpy as np\n",
    "import matplotlib.pyplot as plt"
   ]
  },
  {
   "cell_type": "code",
   "execution_count": 2,
   "metadata": {},
   "outputs": [],
   "source": [
    "c1 = 0.5 # now\n",
    "c2 = 0.75 # in september\n",
    "b = 1 # after september\n",
    "h = 0.1"
   ]
  },
  {
   "cell_type": "markdown",
   "metadata": {},
   "source": [
    "## Some preliminary study"
   ]
  },
  {
   "cell_type": "code",
   "execution_count": 3,
   "metadata": {},
   "outputs": [],
   "source": [
    "def cost(y, A, B):\n",
    "    return b * (A+B) / 2 + (c1-b) * y - (b+h) * (A-y)*(A-y) / (2*(A-B))\n",
    "\n",
    "def solve_second_exact(A, B):\n",
    "    kappa = (b - c1) / (b + h)\n",
    "    y = A * (1-kappa) + B * kappa\n",
    "    c = cost(y, A, B)\n",
    "    return y, c\n",
    "\n",
    "def solve_second_MC(A, B, K):\n",
    "    scenarios = np.random.uniform(low=A, high=B, size=K)\n",
    "\n",
    "    y = cp.Variable(1)\n",
    "    t = cp.Variable(K)\n",
    "    objective = cp.Minimize(cp.sum(t) / K)\n",
    "    constraints = [y >= 0]\n",
    "\n",
    "    for i, dk in enumerate(scenarios):\n",
    "        constraints.append((c1-b) * y - t[i] <= -b * dk)\n",
    "        constraints.append((c1+h) * y - t[i] <= h * dk)\n",
    "    \n",
    "    prob = cp.Problem(objective, constraints)\n",
    "    prob.solve()\n",
    "\n",
    "    candidate = y.value[0]\n",
    "    cost = prob.value\n",
    "    return candidate, cost"
   ]
  },
  {
   "cell_type": "code",
   "execution_count": 4,
   "metadata": {},
   "outputs": [
    {
     "data": {
      "image/png": "[encoded data removed]",
      "text/plain": [
       "<Figure size 432x288 with 1 Axes>"
      ]
     },
     "metadata": {
      "needs_background": "light"
     },
     "output_type": "display_data"
    }
   ],
   "source": [
    "x = np.linspace(20, 50)\n",
    "plt.plot(x, cost(x, 38, 44))\n",
    "y, c = solve_second_exact(38, 44)\n",
    "plt.plot(y, c, 'ro');"
   ]
  },
  {
   "cell_type": "code",
   "execution_count": 5,
   "metadata": {},
   "outputs": [
    {
     "name": "stdout",
     "output_type": "stream",
     "text": [
      "40.67415144530044 21.278250377452963\n",
      "40.72727272727273 21.318181818181817\n"
     ]
    }
   ],
   "source": [
    "y1, cost1 = solve_second_MC(38, 44, 1000)\n",
    "y2, cost2 = solve_second_exact(38, 44)\n",
    "print(y1, cost1)\n",
    "print(y2, cost2)"
   ]
  },
  {
   "cell_type": "markdown",
   "metadata": {},
   "source": [
    "## Grid search (TODO)"
   ]
  },
  {
   "cell_type": "code",
   "execution_count": 47,
   "metadata": {},
   "outputs": [
    {
     "name": "stdout",
     "output_type": "stream",
     "text": [
      "0.0\n"
     ]
    }
   ],
   "source": [
    "def cost(y, A, B):\n",
    "    if A == B:\n",
    "        return max((c2 - b)*y + b*A, (c2+h)*y - h*A)\n",
    "    return b * (A+B) / 2 + (c2-b) * y - (b+h) * (A-y)*(A-y) / (2*(A-B))\n",
    "\n",
    "def solve_second_exact(A, B):\n",
    "    kappa = (b - c2) / (b + h)\n",
    "    y = A * (1-kappa) + B * kappa\n",
    "    c = cost(y, A, B)\n",
    "    return y, c\n",
    "\n",
    "def Q(x, A, B):\n",
    "    y, c = solve_second_exact(np.maximum(A - x, 0), np.maximum(B - x, 0))\n",
    "    return c\n",
    "\n",
    "N = 100\n",
    "\n",
    "# samples ksi_i = (A_i, B_i) = (min(U_1, U_2), max(U_1, U_2)), where U_i ~ Uni[38, 44]\n",
    "bounds = np.sort(np.random.uniform(low=38, high=44, size=(N,2)), axis=1)\n",
    "\n",
    "def value(x):\n",
    "    return np.sum(np.apply_along_axis(lambda bound: Q(x, bound[0], bound[1]), 1, bounds))\n",
    "\n",
    "print(value(45))"
   ]
  },
  {
   "cell_type": "markdown",
   "metadata": {},
   "source": [
    "## Complete linear program"
   ]
  },
  {
   "cell_type": "code",
   "execution_count": 4,
   "metadata": {},
   "outputs": [
    {
     "name": "stdout",
     "output_type": "stream",
     "text": [
      "[38.22630701] 21.549790700476773\n",
      "1.5798562290796208\n"
     ]
    }
   ],
   "source": [
    "N = 100\n",
    "K = 50\n",
    "\n",
    "# samples ksi_i = (A_i, B_i) = (min(U_1, U_2), max(U_1, U_2)), where U_i ~ Uni[38, 44]\n",
    "bounds = np.sort(np.random.uniform(low=30, high=50, size=(N,2)), axis=1)\n",
    "\n",
    "# samples d_{i,j} ~ Uni[A_i, B_i]\n",
    "bounds_K = np.repeat(bounds, K, axis=0)\n",
    "d = np.random.uniform(low=bounds_K[:,0], high=bounds_K[:,1])\n",
    "d = d.reshape((N, K))\n",
    "\n",
    "x = cp.Variable(1)\n",
    "t = cp.Variable((N, K))\n",
    "y = cp.Variable(N)\n",
    "\n",
    "objective = cp.Minimize(c1 * x + cp.sum(t) / (N*K))\n",
    "\n",
    "constraints = [x >= 0]\n",
    "\n",
    "for i in range(N):\n",
    "    constraints.append(y[i] >= 0)\n",
    "    for j in range(K):\n",
    "        constraints.append((c2-b) * y[i] - t[i,j] <= -b * (d[i,j] - x))\n",
    "        constraints.append((c2+h) * y[i] - t[i,j] <= h * (d[i,j] - x))\n",
    "\n",
    "prob = cp.Problem(objective, constraints)\n",
    "prob.solve()\n",
    "\n",
    "candidate = x.value\n",
    "cost = prob.value\n",
    "\n",
    "print(candidate, cost)\n",
    "print(np.mean(y.value))"
   ]
  },
  {
   "cell_type": "markdown",
   "metadata": {},
   "source": [
    "## Monte Carlo for first stage only"
   ]
  },
  {
   "cell_type": "code",
   "execution_count": 5,
   "metadata": {},
   "outputs": [
    {
     "name": "stdout",
     "output_type": "stream",
     "text": [
      "optimal x: 39.36363636363636\n"
     ]
    },
    {
     "data": {
      "image/png": "[encoded data removed]",
      "text/plain": [
       "<Figure size 432x288 with 1 Axes>"
      ]
     },
     "metadata": {
      "needs_background": "light"
     },
     "output_type": "display_data"
    }
   ],
   "source": [
    "# for A <= x <= B\n",
    "def d2(A, B):\n",
    "    return (b+h) / (2*(B-A))\n",
    "def d1(A, B):\n",
    "    return (A/(A-B)) * (b+h) -c2 + c1\n",
    "def d0(A, B):\n",
    "    return ((b+h)*A*A) / (2 * (B-A))\n",
    "\n",
    "# for x > B\n",
    "Bd1 = b + h -c2 + c1\n",
    "def Bd0(A, B):\n",
    "    return (b+h) * ((B-A) / 2 - B)\n",
    "\n",
    "# we define the cost function piecewise\n",
    "def first(x, A, B):\n",
    "    return d2(A, B) * x*x + d1(A, B) * x + d0(A, B)\n",
    "def second(x, A, B):\n",
    "    return Bd1 * x + Bd0(A, B)\n",
    "def cost(x, A, B):\n",
    "    if A <= x <= B:\n",
    "        return first(x, A, B)\n",
    "    elif x > B:\n",
    "        return second(x, A, B)\n",
    "    else:\n",
    "        return (-c2 + c1) *x\n",
    "\n",
    "def x_opt(d1, d2):\n",
    "    return -d1/(2*d2) # extreme point of parabola\n",
    "    \n",
    "# solve an example for given A, B\n",
    "A = 38\n",
    "B = 44\n",
    "xs = np.linspace(30, 50)\n",
    "y = [cost(x, A, B) for x in xs]\n",
    "\n",
    "plt.plot(xs, y)\n",
    "s = x_opt(d1(A, B), d2(A, B))\n",
    "plt.plot(s, cost(s, A, B), 'ro')\n",
    "print(f'optimal x: {s}')"
   ]
  },
  {
   "cell_type": "code",
   "execution_count": 12,
   "metadata": {},
   "outputs": [
    {
     "name": "stdout",
     "output_type": "stream",
     "text": [
      "-71.92352248707292 0.901135660272006\n",
      "39.907155857844394\n"
     ]
    }
   ],
   "source": [
    "N = 10000000\n",
    "\n",
    "# samples ksi_i = (A_i, B_i) = (min(U_1, U_2), max(U_1, U_2)), where U_i ~ Uni[38, 44]\n",
    "bounds = np.sort(np.random.uniform(low=30, high=50, size=(N,2)), axis=1)\n",
    "\n",
    "A, B = bounds[:,0], bounds[:,1]\n",
    "D2 = np.mean(d2(A, B))\n",
    "D1 = np.mean(d1(A, B))\n",
    "# D0 = d0(A, B) # not necessary for solution\n",
    "\n",
    "s = x_opt(D1, D2)\n",
    "print(D1, D2)\n",
    "print(s)"
   ]
  },
  {
   "cell_type": "code",
   "execution_count": null,
   "metadata": {},
   "outputs": [],
   "source": []
  }
 ],
 "metadata": {
  "kernelspec": {
   "display_name": "Python 3.8.12 64-bit ('stoch-dec')",
   "language": "python",
   "name": "python3"
  },
  "language_info": {
   "codemirror_mode": {
    "name": "ipython",
    "version": 3
   },
   "file_extension": ".py",
   "mimetype": "text/x-python",
   "name": "python",
   "nbconvert_exporter": "python",
   "pygments_lexer": "ipython3",
   "version": "3.8.12"
  },
  "orig_nbformat": 4,
  "vscode": {
   "interpreter": {
    "hash": "fe225cf03414ddbddf4295826eabb78b9d61cd0157a282ae232f58c584db52f4"
   }
  }
 },
 "nbformat": 4,
 "nbformat_minor": 2
}
