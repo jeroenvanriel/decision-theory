{
 "cells": [
  {
   "cell_type": "code",
   "execution_count": 1,
   "metadata": {},
   "outputs": [],
   "source": [
    "import cvxpy as cp\n",
    "import numpy as np\n",
    "import matplotlib.pyplot as plt"
   ]
  },
  {
   "cell_type": "code",
   "execution_count": 48,
   "metadata": {},
   "outputs": [],
   "source": [
    "c1 = 0.5 # now\n",
    "c2 = 0.75 # in september\n",
    "b = 1 # after september\n",
    "h = 0.1"
   ]
  },
  {
   "cell_type": "markdown",
   "metadata": {},
   "source": [
    "## Solving a single-stage problem (exercise a)"
   ]
  },
  {
   "cell_type": "code",
   "execution_count": 16,
   "metadata": {},
   "outputs": [],
   "source": [
    "c = c1 # let's consider the situation in exercises (a) and (b)\n",
    "\n",
    "def cost(y, A, B):\n",
    "    return b * (A+B) / 2 + (c-b) * y - (b+h) * (A-y)*(A-y) / (2*(A-B))\n",
    "\n",
    "# formula (1.6) in Shapiro's tutorial\n",
    "def solve_second_exact(A, B):\n",
    "    kappa = (b - c) / (b + h)\n",
    "    y = A * (1-kappa) + B * kappa\n",
    "    return y, cost(y, A, B)\n",
    "\n",
    "# problem (2.5) in Shapiro's tutorial\n",
    "def solve_second_MC(A, B, K):\n",
    "    scenarios = np.random.uniform(low=A, high=B, size=K)\n",
    "\n",
    "    y = cp.Variable(1)\n",
    "    t = cp.Variable(K)\n",
    "    objective = cp.Minimize(cp.sum(t) / K)\n",
    "    constraints = [y >= 0]\n",
    "\n",
    "    for i, dk in enumerate(scenarios):\n",
    "        constraints.append((c-b) * y - t[i] <= -b * dk)\n",
    "        constraints.append((c+h) * y - t[i] <= h * dk)\n",
    "    \n",
    "    prob = cp.Problem(objective, constraints)\n",
    "    prob.solve()\n",
    "\n",
    "    candidate = y.value[0]\n",
    "    return candidate, prob.value"
   ]
  },
  {
   "cell_type": "code",
   "execution_count": 17,
   "metadata": {},
   "outputs": [
    {
     "data": {
      "image/png": "[encoded data removed]",
      "text/plain": [
       "<Figure size 432x288 with 1 Axes>"
      ]
     },
     "metadata": {
      "needs_background": "light"
     },
     "output_type": "display_data"
    }
   ],
   "source": [
    "x = np.linspace(20, 50)\n",
    "plt.plot(x, cost(x, 38, 44))\n",
    "y, cst = solve_second_exact(38, 44)\n",
    "plt.plot(y, cst, 'ro');"
   ]
  },
  {
   "cell_type": "code",
   "execution_count": 19,
   "metadata": {},
   "outputs": [
    {
     "name": "stdout",
     "output_type": "stream",
     "text": [
      "exact solution: 40.72727272727273, with cost: 21.318181818181817\n",
      "MC solution: 40.7131847809286, with cost: 21.319212259854805\n"
     ]
    }
   ],
   "source": [
    "y1, cost1 = solve_second_exact(38, 44)\n",
    "y2, cost2 = solve_second_MC(38, 44, 1000)\n",
    "print(f'exact solution: {y1}, with cost: {cost1}')\n",
    "print(f'MC solution: {y2}, with cost: {cost2}')"
   ]
  },
  {
   "cell_type": "markdown",
   "metadata": {},
   "source": [
    "## Solving the two-stage version (exercise c)"
   ]
  },
  {
   "cell_type": "markdown",
   "metadata": {},
   "source": [
    "### Monte Carlo for first stage only"
   ]
  },
  {
   "cell_type": "markdown",
   "metadata": {},
   "source": [
    "We first express $Q(x, \\xi)$ in terms of $x,A,B$."
   ]
  },
  {
   "cell_type": "code",
   "execution_count": 87,
   "metadata": {},
   "outputs": [],
   "source": [
    "# for A <= x <= B\n",
    "def d2(A, B):\n",
    "    return (b+h) / (2*(B-A))\n",
    "def d1(A, B):\n",
    "    return (A/(A-B)) * (b+h) -c2 + c1\n",
    "def d0(A, B):\n",
    "    return ((b+h)*A*A) / (2 * (B-A))\n",
    "\n",
    "# for x > B\n",
    "Bd1 = b + h -c2 + c1\n",
    "def Bd0(A, B):\n",
    "    return (b+h) * ((B-A) / 2 - B)\n",
    "\n",
    "# constant term in Q\n",
    "def C(A, B):\n",
    "    k = (b-c2)/(b+h)\n",
    "    l = A + k*(B-A)\n",
    "    return b*(A+B)/2 + (c2 - b) * l + (b+h)*(B - A)*k/2\n",
    "\n",
    "# we define the cost function piecewise\n",
    "def Q(x, A, B):\n",
    "    if A <= x <= B:\n",
    "        return d2(A, B) * x*x + d1(A, B) * x + d0(A, B) + C(A,B)\n",
    "    elif x > B:\n",
    "        return Bd1 * x + Bd0(A, B) + C(A,B)\n",
    "    else:\n",
    "        return (-c2 + c1) *x + C(A,B)"
   ]
  },
  {
   "cell_type": "code",
   "execution_count": 104,
   "metadata": {},
   "outputs": [
    {
     "name": "stdout",
     "output_type": "stream",
     "text": [
      "optimal x: 39.36363636363636\n"
     ]
    },
    {
     "data": {
      "image/png": "[encoded data removed]",
      "text/plain": [
       "<Figure size 432x288 with 1 Axes>"
      ]
     },
     "metadata": {
      "needs_background": "light"
     },
     "output_type": "display_data"
    }
   ],
   "source": [
    "# solve an example for given A, B\n",
    "A = 38\n",
    "B = 44\n",
    "xs = np.linspace(30, 50)\n",
    "y = [Q(x, A, B) for x in xs]\n",
    "\n",
    "def x_opt(d1, d2):\n",
    "    return -d1/(2*d2) # extreme point of parabola\n",
    "\n",
    "s = x_opt(d1(A, B), d2(A, B))\n",
    "\n",
    "plt.plot(xs, y)\n",
    "plt.plot(s, Q(s, A, B), 'ro')\n",
    "plt.xlabel('x'); plt.ylabel(r'$Q(x,(38,44))$')\n",
    "plt.savefig('example_Q.pdf')\n",
    "print(f'optimal x: {s}')"
   ]
  },
  {
   "cell_type": "markdown",
   "metadata": {},
   "source": [
    "We can now perform a straightforward grid search on $x$ to find a value close to the optimum."
   ]
  },
  {
   "cell_type": "code",
   "execution_count": 134,
   "metadata": {},
   "outputs": [
    {
     "name": "stdout",
     "output_type": "stream",
     "text": [
      "solution x=39.8799, with cost=21.4021\n",
      "solution x=39.8619, with cost=21.3486\n",
      "solution x=39.7057, with cost=21.3203\n",
      "solution x=39.7598, with cost=21.3728\n",
      "solution x=39.7838, with cost=21.3707\n"
     ]
    },
    {
     "data": {
      "image/png": "[encoded data removed]",
      "text/plain": [
       "<Figure size 432x288 with 1 Axes>"
      ]
     },
     "metadata": {
      "needs_background": "light"
     },
     "output_type": "display_data"
    }
   ],
   "source": [
    "def get_Q(xs, N, low=38, high=44):\n",
    "    # samples ksi_i = (A_i, B_i) = (min(U_1, U_2), max(U_1, U_2)), where U_i ~ Uni[38, 44]\n",
    "    bounds = np.sort(np.random.uniform(low=low, high=high, size=(N,2)), axis=1)\n",
    "    As, Bs = bounds[:,0], bounds[:,1]\n",
    "\n",
    "    def objective(x):\n",
    "        res = 0\n",
    "        for A, B in zip(As, Bs):\n",
    "            res += Q(x, A, B)\n",
    "        return res / N\n",
    "\n",
    "    return [objective(x) for x in xs]\n",
    "\n",
    "def find_solution(N, low=38, high=44):\n",
    "    xs =  np.linspace(low, high, num=1000)\n",
    "    ys = get_Q(xs, N, low=low, high=high)\n",
    "    args = {'color': 'pink'} if N > 1000 else {} # default color is hard to distinguish from the first\n",
    "    plt.plot(xs, ys, label=N, **args)\n",
    "    s = xs[np.argmin(ys)]\n",
    "    cst = np.min(ys)\n",
    "    plt.plot(s, cst, 'ro')\n",
    "    plt.xlabel('x')\n",
    "    plt.ylabel('total cost')\n",
    "    print(f'solution x={s:.4f}, with cost={cst:.4f}')\n",
    "\n",
    "find_solution(100)\n",
    "find_solution(200)\n",
    "find_solution(300)\n",
    "find_solution(1000)\n",
    "find_solution(10000)\n",
    "plt.legend()\n",
    "plt.savefig('MC_grid.pdf')"
   ]
  },
  {
   "cell_type": "markdown",
   "metadata": {},
   "source": [
    "## Value of storage unit (exercise d)"
   ]
  }
 ],
 "metadata": {
  "kernelspec": {
   "display_name": "Python 3.8.12 64-bit ('stoch-dec')",
   "language": "python",
   "name": "python3"
  },
  "language_info": {
   "codemirror_mode": {
    "name": "ipython",
    "version": 3
   },
   "file_extension": ".py",
   "mimetype": "text/x-python",
   "name": "python",
   "nbconvert_exporter": "python",
   "pygments_lexer": "ipython3",
   "version": "3.8.12"
  },
  "orig_nbformat": 4,
  "vscode": {
   "interpreter": {
    "hash": "fe225cf03414ddbddf4295826eabb78b9d61cd0157a282ae232f58c584db52f4"
   }
  }
 },
 "nbformat": 4,
 "nbformat_minor": 2
}
