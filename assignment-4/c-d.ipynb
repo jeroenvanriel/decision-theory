{
 "cells": [
  {
   "cell_type": "code",
   "execution_count": 1,
   "metadata": {},
   "outputs": [],
   "source": [
    "import cvxpy as cp\n",
    "import numpy as np\n",
    "import matplotlib.pyplot as plt"
   ]
  },
  {
   "cell_type": "code",
   "execution_count": 51,
   "metadata": {},
   "outputs": [],
   "source": [
    "c1 = 0.5 # now\n",
    "c2 = 0.75 # in september\n",
    "b = 1 # after september\n",
    "h = 0.1"
   ]
  },
  {
   "cell_type": "code",
   "execution_count": 52,
   "metadata": {},
   "outputs": [],
   "source": [
    "def cost(y, A, B):\n",
    "    return b * (A+B) / 2 + (c1-b) * y - (b+h) * (A-y)*(A-y) / (2*(A-B))\n",
    "\n",
    "def solve_second_exact(A, B):\n",
    "    kappa = (b - c1) / (b + h)\n",
    "    y = A * (1-kappa) + B * kappa\n",
    "    c = cost(y, A, B)\n",
    "    return y, c\n",
    "\n",
    "def solve_second_MC(A, B, K):\n",
    "    scenarios = np.random.uniform(low=A, high=B, size=K)\n",
    "\n",
    "    y = cp.Variable(1)\n",
    "    t = cp.Variable(K)\n",
    "    objective = cp.Minimize(cp.sum(t) / K)\n",
    "    constraints = [y >= 0]\n",
    "\n",
    "    for i, dk in enumerate(scenarios):\n",
    "        constraints.append((c1-b) * y - t[i] <= -b * dk)\n",
    "        constraints.append((c1+h) * y - t[i] <= h * dk)\n",
    "    \n",
    "    prob = cp.Problem(objective, constraints)\n",
    "    prob.solve()\n",
    "\n",
    "    candidate = y.value[0]\n",
    "    cost = prob.value\n",
    "    return candidate, cost"
   ]
  },
  {
   "cell_type": "code",
   "execution_count": 53,
   "metadata": {},
   "outputs": [
    {
     "data": {
      "image/png": "[encoded data removed]",
      "text/plain": [
       "<Figure size 432x288 with 1 Axes>"
      ]
     },
     "metadata": {
      "needs_background": "light"
     },
     "output_type": "display_data"
    }
   ],
   "source": [
    "x = np.linspace(20, 50)\n",
    "plt.plot(x, cost(x, 38, 44))\n",
    "y, c = solve_second_exact(38, 44)\n",
    "plt.plot(y, c, 'ro');"
   ]
  },
  {
   "cell_type": "code",
   "execution_count": 54,
   "metadata": {},
   "outputs": [
    {
     "name": "stdout",
     "output_type": "stream",
     "text": [
      "40.57866193144252 21.29862713832511\n",
      "40.72727272727273 21.318181818181817\n"
     ]
    }
   ],
   "source": [
    "y1, cost1 = solve_second_MC(38, 44, 1000)\n",
    "y2, cost2 = solve_second_exact(38, 44)\n",
    "print(y1, cost1)\n",
    "print(y2, cost2)"
   ]
  },
  {
   "cell_type": "code",
   "execution_count": 62,
   "metadata": {},
   "outputs": [
    {
     "name": "stdout",
     "output_type": "stream",
     "text": [
      "[39.78580615] 20.934531872255334\n",
      "1.115824528167892\n"
     ]
    }
   ],
   "source": [
    "N = 100\n",
    "K = 50\n",
    "\n",
    "c2 = 0.6 # to check if the cost actually gets down\n",
    "\n",
    "# samples ksi_i = (A_i, B_i) = (min(U_1, U_2), max(U_1, U_2)), where U_i ~ Uni[38, 44]\n",
    "bounds = np.sort(np.random.uniform(low=38, high=44, size=(N,2)), axis=1)\n",
    "\n",
    "# samples d_{i,j} ~ Uni[A_i, B_i]\n",
    "bounds_K = np.repeat(bounds, K, axis=0)\n",
    "d = np.random.uniform(low=bounds_K[:,0], high=bounds_K[:,1])\n",
    "d = d.reshape((N, K))\n",
    "\n",
    "x = cp.Variable(1)\n",
    "t = cp.Variable((N, K))\n",
    "y = cp.Variable(N)\n",
    "\n",
    "objective = cp.Minimize(c1 * x + cp.sum(t) / (N*K))\n",
    "\n",
    "constraints = [x >= 0]\n",
    "\n",
    "for i in range(N):\n",
    "    constraints.append(y[i] >= 0)\n",
    "    for j in range(K):\n",
    "        constraints.append((c2-b) * y[i] - t[i,j] <= -b * (d[i,j] - x))\n",
    "        constraints.append((c2+h) * y[i] - t[i,j] <= h * (d[i,j] - x))\n",
    "\n",
    "prob = cp.Problem(objective, constraints)\n",
    "prob.solve()\n",
    "\n",
    "candidate = x.value\n",
    "cost = prob.value\n",
    "\n",
    "print(candidate, cost)\n",
    "print(np.mean(y.value))"
   ]
  },
  {
   "cell_type": "code",
   "execution_count": null,
   "metadata": {},
   "outputs": [],
   "source": []
  }
 ],
 "metadata": {
  "kernelspec": {
   "display_name": "Python 3.8.12 64-bit ('stoch-dec')",
   "language": "python",
   "name": "python3"
  },
  "language_info": {
   "codemirror_mode": {
    "name": "ipython",
    "version": 3
   },
   "file_extension": ".py",
   "mimetype": "text/x-python",
   "name": "python",
   "nbconvert_exporter": "python",
   "pygments_lexer": "ipython3",
   "version": "3.8.12"
  },
  "orig_nbformat": 4,
  "vscode": {
   "interpreter": {
    "hash": "fe225cf03414ddbddf4295826eabb78b9d61cd0157a282ae232f58c584db52f4"
   }
  }
 },
 "nbformat": 4,
 "nbformat_minor": 2
}
